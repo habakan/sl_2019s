{
 "cells": [
  {
   "cell_type": "code",
   "execution_count": 6,
   "metadata": {},
   "outputs": [],
   "source": [
    "import numpy as np\n",
    "import pandas as pd\n",
    "import matplotlib.pyplot as plt\n",
    "from sklearn.linear_model import Lasso\n",
    "from grouplasso import GroupLassoRegressor\n",
    "from sklearn.preprocessing import StandardScaler"
   ]
  },
  {
   "cell_type": "code",
   "execution_count": 185,
   "metadata": {},
   "outputs": [],
   "source": [
    "class Ista:\n",
    "    def __init__(self, alpha=0.1, maxiter=100, tol=1e-4):\n",
    "        self.alpha = alpha\n",
    "        self.maxiter = maxiter\n",
    "        self.tol = tol\n",
    "        self.coef = []\n",
    "    \n",
    "    def fit(self, X, y):\n",
    "        self.coef_ = np.zeros(X.shape[1])\n",
    "        rho = self._supermum_eigen(X.T @ X)\n",
    "        for it in range(self.maxiter):\n",
    "            self.coef_ = self._update(self.coef_, X, y, rho)\n",
    "            \n",
    "    def predict(self, X):\n",
    "        return X @ self.coef_\n",
    "    \n",
    "    def _update(self, x0, X, y, rho):\n",
    "        res = y - X @ x0\n",
    "        return self._soft_threshold(x0 + (X.T @ res) / rho, self.alpha / rho)\n",
    "    \n",
    "    def _soft_threshold(self, y, alpha):\n",
    "        return np.sign(y) * np.maximum(np.abs(y) - alpha, 0.0)\n",
    "        \n",
    "    def _supermum_eigen(self, X):\n",
    "        return np.max(np.sum(np.abs(X), axis=0))"
   ]
  },
  {
   "cell_type": "code",
   "execution_count": 186,
   "metadata": {},
   "outputs": [],
   "source": [
    "from sklearn.base import BaseEstimator, RegressorMixin\n",
    "class Admm(BaseEstimator, RegressorMixin):\n",
    "    def __init__(self, lambd=1.0, rho=1.0, max_iter=1000):\n",
    "        self.lambd = lambd\n",
    "        self.rho = rho\n",
    "        self.threshold = lambd / rho\n",
    "        self.max_iter = max_iter\n",
    "        self.coef_ = None\n",
    "        self.intercept_ = 0.0\n",
    "\n",
    "    def _soft_threshold(self, x):\n",
    "        t = self.threshold\n",
    "\n",
    "        positive_indexes = x >= t\n",
    "        negative_indexes = x <= t\n",
    "        zero_indexes = abs(x) <= t\n",
    "\n",
    "        y = np.zeros(x.shape)\n",
    "        y[positive_indexes] = x[positive_indexes] - t\n",
    "        y[negative_indexes] = x[negative_indexes] + t\n",
    "        y[zero_indexes] = 0.0\n",
    "\n",
    "        return y\n",
    "\n",
    "    def fit(self, A, b):\n",
    "        N = A.shape[0]\n",
    "        M = A.shape[1]\n",
    "        inv_matrix = np.linalg.inv(np.dot(A.T, A) / N + self.rho * np.identity(M))\n",
    "\n",
    "        x = np.dot(A.T, b) / N\n",
    "        z = x.copy()\n",
    "        y = np.zeros(len(x))\n",
    "\n",
    "        for iteration in range(self.max_iter):\n",
    "            x = np.dot(inv_matrix, np.dot(A.T, b) / N + self.rho * z - y)\n",
    "            z = self._soft_threshold(x + y / self.rho)\n",
    "            y += self.rho * (x - z)\n",
    "\n",
    "        self.coef_ = x\n",
    "\n",
    "        return self\n",
    "\n",
    "    def predict(self, X):\n",
    "        return X @ self.coef_"
   ]
  },
  {
   "cell_type": "code",
   "execution_count": 187,
   "metadata": {},
   "outputs": [],
   "source": [
    "data = pd.read_csv(\"../data/data.csv\")"
   ]
  },
  {
   "cell_type": "code",
   "execution_count": 188,
   "metadata": {},
   "outputs": [
    {
     "data": {
      "text/html": [
       "<div>\n",
       "<style scoped>\n",
       "    .dataframe tbody tr th:only-of-type {\n",
       "        vertical-align: middle;\n",
       "    }\n",
       "\n",
       "    .dataframe tbody tr th {\n",
       "        vertical-align: top;\n",
       "    }\n",
       "\n",
       "    .dataframe thead th {\n",
       "        text-align: right;\n",
       "    }\n",
       "</style>\n",
       "<table border=\"1\" class=\"dataframe\">\n",
       "  <thead>\n",
       "    <tr style=\"text-align: right;\">\n",
       "      <th></th>\n",
       "      <th>Unnamed: 0</th>\n",
       "      <th>y</th>\n",
       "      <th>x1</th>\n",
       "      <th>x2</th>\n",
       "      <th>x3</th>\n",
       "      <th>x4</th>\n",
       "      <th>x5</th>\n",
       "    </tr>\n",
       "  </thead>\n",
       "  <tbody>\n",
       "    <tr>\n",
       "      <th>0</th>\n",
       "      <td>1</td>\n",
       "      <td>-12.101067</td>\n",
       "      <td>6</td>\n",
       "      <td>16.187861</td>\n",
       "      <td>16.466228</td>\n",
       "      <td>21.955828</td>\n",
       "      <td>9</td>\n",
       "    </tr>\n",
       "    <tr>\n",
       "      <th>1</th>\n",
       "      <td>2</td>\n",
       "      <td>-5.504248</td>\n",
       "      <td>6</td>\n",
       "      <td>24.156027</td>\n",
       "      <td>23.589765</td>\n",
       "      <td>30.090739</td>\n",
       "      <td>11</td>\n",
       "    </tr>\n",
       "    <tr>\n",
       "      <th>2</th>\n",
       "      <td>3</td>\n",
       "      <td>-0.726944</td>\n",
       "      <td>5</td>\n",
       "      <td>22.491387</td>\n",
       "      <td>22.917049</td>\n",
       "      <td>27.191039</td>\n",
       "      <td>12</td>\n",
       "    </tr>\n",
       "    <tr>\n",
       "      <th>3</th>\n",
       "      <td>4</td>\n",
       "      <td>6.830745</td>\n",
       "      <td>5</td>\n",
       "      <td>20.606433</td>\n",
       "      <td>21.622642</td>\n",
       "      <td>26.420948</td>\n",
       "      <td>3</td>\n",
       "    </tr>\n",
       "    <tr>\n",
       "      <th>4</th>\n",
       "      <td>5</td>\n",
       "      <td>-2.382588</td>\n",
       "      <td>5</td>\n",
       "      <td>15.933283</td>\n",
       "      <td>16.521607</td>\n",
       "      <td>21.898124</td>\n",
       "      <td>13</td>\n",
       "    </tr>\n",
       "  </tbody>\n",
       "</table>\n",
       "</div>"
      ],
      "text/plain": [
       "   Unnamed: 0          y  x1         x2         x3         x4  x5\n",
       "0           1 -12.101067   6  16.187861  16.466228  21.955828   9\n",
       "1           2  -5.504248   6  24.156027  23.589765  30.090739  11\n",
       "2           3  -0.726944   5  22.491387  22.917049  27.191039  12\n",
       "3           4   6.830745   5  20.606433  21.622642  26.420948   3\n",
       "4           5  -2.382588   5  15.933283  16.521607  21.898124  13"
      ]
     },
     "execution_count": 188,
     "metadata": {},
     "output_type": "execute_result"
    }
   ],
   "source": [
    "data.head()"
   ]
  },
  {
   "cell_type": "code",
   "execution_count": 189,
   "metadata": {},
   "outputs": [],
   "source": [
    "X = data[['x1', 'x2', 'x3', 'x4', 'x5', 'y']].values\n",
    "X = StandardScaler().fit_transform(X)\n",
    "y = X[:, 5]\n",
    "X = X[:, :5]"
   ]
  },
  {
   "cell_type": "code",
   "execution_count": 190,
   "metadata": {},
   "outputs": [
    {
     "data": {
      "text/plain": [
       "(1000, 5)"
      ]
     },
     "execution_count": 190,
     "metadata": {},
     "output_type": "execute_result"
    }
   ],
   "source": [
    "X.shape"
   ]
  },
  {
   "cell_type": "code",
   "execution_count": 191,
   "metadata": {},
   "outputs": [
    {
     "data": {
      "text/plain": [
       "(1000,)"
      ]
     },
     "execution_count": 191,
     "metadata": {},
     "output_type": "execute_result"
    }
   ],
   "source": [
    "y.shape"
   ]
  },
  {
   "cell_type": "code",
   "execution_count": 192,
   "metadata": {},
   "outputs": [
    {
     "data": {
      "text/plain": [
       "<matplotlib.legend.Legend at 0x11722b5c0>"
      ]
     },
     "execution_count": 192,
     "metadata": {},
     "output_type": "execute_result"
    },
    {
     "data": {
      "image/png": "[encoded data removed]",
      "text/plain": [
       "<Figure size 432x288 with 1 Axes>"
      ]
     },
     "metadata": {},
     "output_type": "display_data"
    }
   ],
   "source": [
    "alpha = 0.01\n",
    "lasso = Lasso(alpha=alpha, fit_intercept=False, tol=1e-5)\n",
    "lasso.fit(X, y)\n",
    "\n",
    "ista = Ista(alpha, 30000, 1e-5)\n",
    "ista.fit(X, y)\n",
    "\n",
    "admm = Admm(lambd=0.005, rho=1, max_iter=30000)\n",
    "admm.fit(X, y)\n",
    "\n",
    "\n",
    "group_ids = np.array([0, 0, 1, 1, 1])\n",
    "eta = 0.2    # 学習率\n",
    "group_lasso = GroupLassoRegressor(group_ids=group_ids, random_state=42, alpha=alpha, verbose=False, eta=eta)\n",
    "group_lasso.fit(X, y)\n",
    "\n",
    "# compare\n",
    "plt.plot(lasso.coef_, '-o', label='sklearn')\n",
    "plt.plot(ista.coef_, '-', label='ista')\n",
    "plt.plot(admm.coef_, '+', label='admm')\n",
    "plt.plot(group_lasso.coef_, 'o', label='groupLasso')\n",
    "plt.legend()"
   ]
  },
  {
   "cell_type": "code",
   "execution_count": 193,
   "metadata": {},
   "outputs": [
    {
     "data": {
      "text/plain": [
       "array([ 0.10150515,  0.06295129,  0.04483574, -0.16539947, -0.01714344])"
      ]
     },
     "execution_count": 193,
     "metadata": {},
     "output_type": "execute_result"
    }
   ],
   "source": [
    "admm.coef_"
   ]
  },
  {
   "cell_type": "code",
   "execution_count": 194,
   "metadata": {},
   "outputs": [
    {
     "data": {
      "text/plain": [
       "array([ 0.04425793,  0.01054621,  0.03105695, -0.07694758, -0.0192625 ])"
      ]
     },
     "execution_count": 194,
     "metadata": {},
     "output_type": "execute_result"
    }
   ],
   "source": [
    "group_lasso.coef_"
   ]
  },
  {
   "cell_type": "code",
   "execution_count": null,
   "metadata": {},
   "outputs": [],
   "source": []
  }
 ],
 "metadata": {
  "kernelspec": {
   "display_name": "Python 3",
   "language": "python",
   "name": "python3"
  },
  "language_info": {
   "codemirror_mode": {
    "name": "ipython",
    "version": 3
   },
   "file_extension": ".py",
   "mimetype": "text/x-python",
   "name": "python",
   "nbconvert_exporter": "python",
   "pygments_lexer": "ipython3",
   "version": "3.6.0"
  }
 },
 "nbformat": 4,
 "nbformat_minor": 2
}
