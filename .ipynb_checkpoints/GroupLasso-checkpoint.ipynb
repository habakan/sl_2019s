{
 "cells": [
  {
   "cell_type": "code",
   "execution_count": 1,
   "metadata": {},
   "outputs": [],
   "source": [
    "import numpy as np"
   ]
  },
  {
   "cell_type": "markdown",
   "metadata": {},
   "source": [
    "## $L_1$ノルムの変分表現\n",
    "$L_1$ノルムはパラメータ$\\eta$を利用することで書き換えることが可能\n",
    "$$\\|w\\|_1 = \\frac{1}{2}\\sum_{j=1}^{d} \\min_{\\eta \\in \\mathcal{R}^d : \\eta_J \\le 0} \\left( \\frac{w_{j^2}}{\\eta_j} + \\eta_j \\right) $$"
   ]
  },
  {
   "cell_type": "markdown",
   "metadata": {},
   "source": [
    "## proximal operator\n",
    "凸関数$g$に関して, proximal operator $prox_g$を以下のように定義\n",
    "$$prox_g(y) = \\underset{w \\in \\mathcal{R^d}}{\\operatorname{argmin}} \\left( \\frac{1}{2} \\| y - w\\|_{2}^{2} + g(w) \\right)$$\n",
    "\n",
    "以上のproximal operatorを$L_1$に適応させると以下のようになる\n",
    "$$prox^{l_1}_{\\lambda} (y) = \\underset{w \\in \\mathcal{R^d}}{\\operatorname{argmin}}  \\left( \\frac{1}{2} \\| y - w\\|_{2}^{2} + \\lambda \\|w\\|_1 \\right)$$\n",
    "\n"
   ]
  },
  {
   "cell_type": "code",
   "execution_count": 15,
   "metadata": {},
   "outputs": [],
   "source": [
    "class Lasso:\n",
    "    def __init__(self, alpha=0.1, maxiter=100):\n",
    "        self.alpha = alpha\n",
    "        self.maxiter = maxiter\n",
    "        \n",
    "    def fit(self, X, y):\n",
    "        self.w = np.zeros(X.shape[1])\n",
    "        L = 2*np.linalg.eig(X.T@X)[0].max() \n",
    "        z = self.w\n",
    "        s = 1\n",
    "        for i in range(self.maxiter):\n",
    "            res = y - X @ z\n",
    "            v = z + (X.T @ res) / L\n",
    "            w_new = self._soft_threshold(v,  self.alpha / L)\n",
    "            s_new  = (1 + np.sqrt(1 + 4 * s ** 2)) / 2\n",
    "            z = self.w + (s - 1) / s_new * (w_new - self.w)\n",
    "            \n",
    "            self.w = w_new\n",
    "            s = s_new\n",
    "        \n",
    "    def _soft_threshold(self, y, alpha):\n",
    "        return np.sign(y) * np.maximum(np.abs(y) - alpha, 0.0)"
   ]
  },
  {
   "cell_type": "code",
   "execution_count": 97,
   "metadata": {},
   "outputs": [],
   "source": [
    "class GroupLasso:\n",
    "    def __init__(self, group_ids, alpha=1e-3, eta=1e-1, maxiter=100):\n",
    "        self.alpha = alpha\n",
    "        self.eta = eta\n",
    "        self.maxiter = maxiter\n",
    "        self.group_ids = group_ids\n",
    "        \n",
    "    def fit(self, X, y):\n",
    "        self.w = np.zeros(X.shape[1])\n",
    "        L = 2*np.linalg.eig(X.T@X)[0].max() \n",
    "        z = self.w\n",
    "        s = 1\n",
    "        for i in range(self.maxiter):\n",
    "            res = y - X @ z\n",
    "            \n",
    "            #print('loss:', np.mean(res**2))\n",
    "            v = z + (X.T @ res) / L * self.eta\n",
    "            #print(self.alpha * self.eta / L)\n",
    "            w_new = self._proximal_operator(v,  self.alpha * self.eta )\n",
    "            s_new  = (1 + np.sqrt(1 + 4 * s ** 2)) / 2\n",
    "            z = self.w + (s - 1) / s_new * (w_new - self.w)\n",
    "            \n",
    "            self.w = w_new\n",
    "            s = s_new\n",
    "        \n",
    "    def _proximal_operator(self, y, thresh):\n",
    "        result_w = np.zeros_like(self.w).astype(np.float64)\n",
    "        for group_id in self.group_ids:\n",
    "            # 該当するgroupのみ係数を抽出\n",
    "            group_coef_idx = self.group_ids == group_id\n",
    "            group_coef = y[group_coef_idx]\n",
    "            \n",
    "            # L2ノルムの計算\n",
    "            group_norm = np.linalg.norm(group_coef, 2)\n",
    "            \n",
    "            # soft_threshold関数\n",
    "            if group_norm == 0:\n",
    "                multiplier = 0\n",
    "            else:\n",
    "                #print(group_norm)\n",
    "                multiplier = np.maximum(0, 1 -  thresh / group_norm)\n",
    "            \n",
    "            result_w[group_coef_idx] = multiplier * group_coef\n",
    "            \n",
    "        return result_w"
   ]
  },
  {
   "cell_type": "code",
   "execution_count": 100,
   "metadata": {
    "scrolled": true
   },
   "outputs": [
    {
     "name": "stderr",
     "output_type": "stream",
     "text": [
      "/Users/habakan/.pyenv/versions/3.6.0/lib/python3.6/site-packages/ipykernel_launcher.py:43: ComplexWarning: Casting complex values to real discards the imaginary part\n"
     ]
    },
    {
     "data": {
      "image/png": "[encoded data removed]",
      "text/plain": [
       "<Figure size 432x288 with 1 Axes>"
      ]
     },
     "metadata": {},
     "output_type": "display_data"
    }
   ],
   "source": [
    "#np.random.seed(42)\n",
    "\n",
    "n_samples, n_features = 50, 200\n",
    "X = np.random.randn(n_samples, n_features)\n",
    "coef = 3 * np.random.randn(n_features)\n",
    "inds = np.arange(n_features)\n",
    "np.random.shuffle(inds)\n",
    "coef[inds[10:]] = 0  # sparsify coef\n",
    "y = np.dot(X, coef)\n",
    "\n",
    "# add noise\n",
    "y += 0.01 * np.random.normal(size=n_samples)\n",
    "group_ids = np.array([0 for i in range(50)] + [1 for i in range(50)] +  [2 for i in range(50)] + [3 for i in range(50)])\n",
    "eta = 0.2    # 学習率\n",
    "alpha = 0.1\n",
    "group_lasso = GroupLasso(group_ids=group_ids, alpha=alpha, eta=eta, maxiter=1000)\n",
    "group_lasso.fit(X, y)\n",
    "plt.plot(coef, '-', label='real coef')\n",
    "plt.plot([i for i in range(0, 50)], group_lasso.w[:50], 'o', label='group1')\n",
    "plt.plot([i for i in range(50, 100)], group_lasso.w[50:100], 'o', label='group2')\n",
    "plt.plot([i for i in range(100, 150)], group_lasso.w[100:150], 'o', label='group3')\n",
    "plt.plot([i for i in range(150, 200)], group_lasso.w[150:200], 'o', label='group4')\n",
    "plt.legend()\n",
    "plt.show()"
   ]
  },
  {
   "cell_type": "code",
   "execution_count": 67,
   "metadata": {},
   "outputs": [
    {
     "name": "stderr",
     "output_type": "stream",
     "text": [
      "/Users/habakan/.pyenv/versions/3.6.0/lib/python3.6/site-packages/numpy/core/numeric.py:492: ComplexWarning: Casting complex values to real discards the imaginary part\n",
      "  return array(a, dtype, copy=False, order=order)\n"
     ]
    },
    {
     "data": {
      "image/png": "[encoded data removed]",
      "text/plain": [
       "<Figure size 432x288 with 1 Axes>"
      ]
     },
     "metadata": {},
     "output_type": "display_data"
    }
   ],
   "source": [
    "import numpy as np\n",
    "import matplotlib.pyplot as plt\n",
    "\n",
    "\n",
    "# Generate some sparse data to play with\n",
    "np.random.seed(42)\n",
    "\n",
    "n_samples, n_features = 50, 200\n",
    "X = np.random.randn(n_samples, n_features)\n",
    "coef = 3 * np.random.randn(n_features)\n",
    "inds = np.arange(n_features)\n",
    "np.random.shuffle(inds)\n",
    "coef[inds[10:]] = 0  # sparsify coef\n",
    "y = np.dot(X, coef)\n",
    "\n",
    "# add noise\n",
    "y += 0.01 * np.random.normal(size=n_samples)\n",
    "\n",
    "alpha = 0.1\n",
    "lasso = Lasso(alpha=100, maxiter=30000)\n",
    "lasso.fit(X, y)\n",
    "\n",
    "# compare\n",
    "plt.plot(coef, '-b', label='real coef')\n",
    "plt.plot(lasso.w, '-o', label='lasso')\n",
    "plt.legend()\n",
    "plt.show()"
   ]
  },
  {
   "cell_type": "code",
   "execution_count": 31,
   "metadata": {},
   "outputs": [
    {
     "data": {
      "image/png": "[encoded data removed]",
      "text/plain": [
       "<Figure size 432x288 with 1 Axes>"
      ]
     },
     "metadata": {},
     "output_type": "display_data"
    }
   ],
   "source": [
    "group_ids = np.array([0 for i in range(50)] + [1 for i in range(50)] +  [2 for i in range(50)] + [3 for i in range(50)])\n",
    "eta = 0.2    # 学習率\n",
    "group_lasso = GroupLasso(group_ids=group_ids, alpha=eta)\n",
    "group_lasso.fit(X, y)\n",
    "plt.plot(coef, '-', label='real coef')\n",
    "plt.plot([i for i in range(0, 50)], group_lasso.w[:50], 'o', label='group1')\n",
    "plt.plot([i for i in range(50, 100)], group_lasso.w[50:100], 'o', label='group2')\n",
    "plt.plot([i for i in range(100, 150)], group_lasso.w[100:150], 'o', label='group3')\n",
    "plt.plot([i for i in range(150, 200)], group_lasso.w[150:200], 'o', label='group4')\n",
    "plt.legend()\n",
    "plt.show()"
   ]
  },
  {
   "cell_type": "code",
   "execution_count": 101,
   "metadata": {},
   "outputs": [],
   "source": [
    "import pandas as pd\n",
    "from sklearn.datasets import load_boston\n",
    "from sklearn.preprocessing import StandardScaler\n",
    "\n",
    "data = load_boston()\n",
    "\n",
    "# 学習の効率化のため、各説明変数は正規化する\n",
    "x = StandardScaler().fit_transform(data.data)\n",
    "y = data.target\n"
   ]
  },
  {
   "cell_type": "code",
   "execution_count": 110,
   "metadata": {},
   "outputs": [
    {
     "data": {
      "text/html": [
       "<div>\n",
       "<style scoped>\n",
       "    .dataframe tbody tr th:only-of-type {\n",
       "        vertical-align: middle;\n",
       "    }\n",
       "\n",
       "    .dataframe tbody tr th {\n",
       "        vertical-align: top;\n",
       "    }\n",
       "\n",
       "    .dataframe thead th {\n",
       "        text-align: right;\n",
       "    }\n",
       "</style>\n",
       "<table border=\"1\" class=\"dataframe\">\n",
       "  <thead>\n",
       "    <tr style=\"text-align: right;\">\n",
       "      <th></th>\n",
       "      <th>0</th>\n",
       "      <th>1</th>\n",
       "      <th>2</th>\n",
       "      <th>3</th>\n",
       "      <th>4</th>\n",
       "      <th>5</th>\n",
       "      <th>6</th>\n",
       "      <th>7</th>\n",
       "      <th>8</th>\n",
       "      <th>9</th>\n",
       "      <th>10</th>\n",
       "      <th>11</th>\n",
       "      <th>12</th>\n",
       "    </tr>\n",
       "  </thead>\n",
       "  <tbody>\n",
       "    <tr>\n",
       "      <th>0</th>\n",
       "      <td>0.00632</td>\n",
       "      <td>18.0</td>\n",
       "      <td>2.31</td>\n",
       "      <td>0.0</td>\n",
       "      <td>0.538</td>\n",
       "      <td>6.575</td>\n",
       "      <td>65.2</td>\n",
       "      <td>4.0900</td>\n",
       "      <td>1.0</td>\n",
       "      <td>296.0</td>\n",
       "      <td>15.3</td>\n",
       "      <td>396.90</td>\n",
       "      <td>4.98</td>\n",
       "    </tr>\n",
       "    <tr>\n",
       "      <th>1</th>\n",
       "      <td>0.02731</td>\n",
       "      <td>0.0</td>\n",
       "      <td>7.07</td>\n",
       "      <td>0.0</td>\n",
       "      <td>0.469</td>\n",
       "      <td>6.421</td>\n",
       "      <td>78.9</td>\n",
       "      <td>4.9671</td>\n",
       "      <td>2.0</td>\n",
       "      <td>242.0</td>\n",
       "      <td>17.8</td>\n",
       "      <td>396.90</td>\n",
       "      <td>9.14</td>\n",
       "    </tr>\n",
       "    <tr>\n",
       "      <th>2</th>\n",
       "      <td>0.02729</td>\n",
       "      <td>0.0</td>\n",
       "      <td>7.07</td>\n",
       "      <td>0.0</td>\n",
       "      <td>0.469</td>\n",
       "      <td>7.185</td>\n",
       "      <td>61.1</td>\n",
       "      <td>4.9671</td>\n",
       "      <td>2.0</td>\n",
       "      <td>242.0</td>\n",
       "      <td>17.8</td>\n",
       "      <td>392.83</td>\n",
       "      <td>4.03</td>\n",
       "    </tr>\n",
       "    <tr>\n",
       "      <th>3</th>\n",
       "      <td>0.03237</td>\n",
       "      <td>0.0</td>\n",
       "      <td>2.18</td>\n",
       "      <td>0.0</td>\n",
       "      <td>0.458</td>\n",
       "      <td>6.998</td>\n",
       "      <td>45.8</td>\n",
       "      <td>6.0622</td>\n",
       "      <td>3.0</td>\n",
       "      <td>222.0</td>\n",
       "      <td>18.7</td>\n",
       "      <td>394.63</td>\n",
       "      <td>2.94</td>\n",
       "    </tr>\n",
       "    <tr>\n",
       "      <th>4</th>\n",
       "      <td>0.06905</td>\n",
       "      <td>0.0</td>\n",
       "      <td>2.18</td>\n",
       "      <td>0.0</td>\n",
       "      <td>0.458</td>\n",
       "      <td>7.147</td>\n",
       "      <td>54.2</td>\n",
       "      <td>6.0622</td>\n",
       "      <td>3.0</td>\n",
       "      <td>222.0</td>\n",
       "      <td>18.7</td>\n",
       "      <td>396.90</td>\n",
       "      <td>5.33</td>\n",
       "    </tr>\n",
       "  </tbody>\n",
       "</table>\n",
       "</div>"
      ],
      "text/plain": [
       "        0     1     2    3      4      5     6       7    8      9     10  \\\n",
       "0  0.00632  18.0  2.31  0.0  0.538  6.575  65.2  4.0900  1.0  296.0  15.3   \n",
       "1  0.02731   0.0  7.07  0.0  0.469  6.421  78.9  4.9671  2.0  242.0  17.8   \n",
       "2  0.02729   0.0  7.07  0.0  0.469  7.185  61.1  4.9671  2.0  242.0  17.8   \n",
       "3  0.03237   0.0  2.18  0.0  0.458  6.998  45.8  6.0622  3.0  222.0  18.7   \n",
       "4  0.06905   0.0  2.18  0.0  0.458  7.147  54.2  6.0622  3.0  222.0  18.7   \n",
       "\n",
       "       11    12  \n",
       "0  396.90  4.98  \n",
       "1  396.90  9.14  \n",
       "2  392.83  4.03  \n",
       "3  394.63  2.94  \n",
       "4  396.90  5.33  "
      ]
     },
     "execution_count": 110,
     "metadata": {},
     "output_type": "execute_result"
    }
   ],
   "source": [
    "pd.DataFrame(data.data).head()"
   ]
  },
  {
   "cell_type": "code",
   "execution_count": 103,
   "metadata": {},
   "outputs": [],
   "source": [
    "group_ids = np.array([0, 1, 1, 2, 2, 3, 3, 3, 4, 4, 5, 6, 6])"
   ]
  },
  {
   "cell_type": "code",
   "execution_count": 107,
   "metadata": {},
   "outputs": [],
   "source": [
    "alpha = 0.5\n",
    "eta = 0.2\n",
    "model = GroupLasso(group_ids=group_ids, alpha=alpha, eta=eta)\n",
    "model.fit(x, y)"
   ]
  },
  {
   "cell_type": "code",
   "execution_count": 108,
   "metadata": {},
   "outputs": [
    {
     "name": "stdout",
     "output_type": "stream",
     "text": [
      "[-0.          0.         -0.          0.         -0.          0.5609051\n",
      " -0.26914494  0.15802042 -0.         -0.         -0.          0.21448882\n",
      " -0.48673681]\n"
     ]
    }
   ],
   "source": [
    "print(model.w)"
   ]
  },
  {
   "cell_type": "code",
   "execution_count": 120,
   "metadata": {},
   "outputs": [
    {
     "data": {
      "text/html": [
       "<div>\n",
       "<style scoped>\n",
       "    .dataframe tbody tr th:only-of-type {\n",
       "        vertical-align: middle;\n",
       "    }\n",
       "\n",
       "    .dataframe tbody tr th {\n",
       "        vertical-align: top;\n",
       "    }\n",
       "\n",
       "    .dataframe thead th {\n",
       "        text-align: right;\n",
       "    }\n",
       "</style>\n",
       "<table border=\"1\" class=\"dataframe\">\n",
       "  <thead>\n",
       "    <tr style=\"text-align: right;\">\n",
       "      <th></th>\n",
       "      <th>0</th>\n",
       "      <th>1</th>\n",
       "      <th>2</th>\n",
       "      <th>3</th>\n",
       "      <th>4</th>\n",
       "      <th>5</th>\n",
       "      <th>6</th>\n",
       "      <th>7</th>\n",
       "      <th>8</th>\n",
       "      <th>9</th>\n",
       "      <th>10</th>\n",
       "      <th>11</th>\n",
       "      <th>12</th>\n",
       "    </tr>\n",
       "  </thead>\n",
       "  <tbody>\n",
       "    <tr>\n",
       "      <th>0</th>\n",
       "      <td>0.0</td>\n",
       "      <td>1.0</td>\n",
       "      <td>1.0</td>\n",
       "      <td>2.0</td>\n",
       "      <td>2.0</td>\n",
       "      <td>3.000000</td>\n",
       "      <td>3.000000</td>\n",
       "      <td>3.00000</td>\n",
       "      <td>4.0</td>\n",
       "      <td>4.0</td>\n",
       "      <td>5.0</td>\n",
       "      <td>6.000000</td>\n",
       "      <td>6.000000</td>\n",
       "    </tr>\n",
       "    <tr>\n",
       "      <th>1</th>\n",
       "      <td>-0.0</td>\n",
       "      <td>0.0</td>\n",
       "      <td>-0.0</td>\n",
       "      <td>0.0</td>\n",
       "      <td>-0.0</td>\n",
       "      <td>0.560905</td>\n",
       "      <td>-0.269145</td>\n",
       "      <td>0.15802</td>\n",
       "      <td>-0.0</td>\n",
       "      <td>-0.0</td>\n",
       "      <td>-0.0</td>\n",
       "      <td>0.214489</td>\n",
       "      <td>-0.486737</td>\n",
       "    </tr>\n",
       "  </tbody>\n",
       "</table>\n",
       "</div>"
      ],
      "text/plain": [
       "    0    1    2    3    4         5         6        7    8    9    10  \\\n",
       "0  0.0  1.0  1.0  2.0  2.0  3.000000  3.000000  3.00000  4.0  4.0  5.0   \n",
       "1 -0.0  0.0 -0.0  0.0 -0.0  0.560905 -0.269145  0.15802 -0.0 -0.0 -0.0   \n",
       "\n",
       "         11        12  \n",
       "0  6.000000  6.000000  \n",
       "1  0.214489 -0.486737  "
      ]
     },
     "execution_count": 120,
     "metadata": {},
     "output_type": "execute_result"
    }
   ],
   "source": [
    "pd.DataFrame(np.concatenate([group_ids.reshape(1, -1), model.w.reshape(1, -1)])).head()"
   ]
  },
  {
   "cell_type": "code",
   "execution_count": null,
   "metadata": {},
   "outputs": [],
   "source": []
  }
 ],
 "metadata": {
  "kernelspec": {
   "display_name": "Python 3",
   "language": "python",
   "name": "python3"
  },
  "language_info": {
   "codemirror_mode": {
    "name": "ipython",
    "version": 3
   },
   "file_extension": ".py",
   "mimetype": "text/x-python",
   "name": "python",
   "nbconvert_exporter": "python",
   "pygments_lexer": "ipython3",
   "version": "3.6.0"
  }
 },
 "nbformat": 4,
 "nbformat_minor": 2
}
