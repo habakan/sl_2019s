{
 "cells": [
  {
   "cell_type": "code",
   "execution_count": 59,
   "metadata": {},
   "outputs": [],
   "source": [
    "import numpy as np\n",
    "import numpy.linalg as LA"
   ]
  },
  {
   "cell_type": "code",
   "execution_count": 108,
   "metadata": {},
   "outputs": [],
   "source": [
    "class Fista:\n",
    "    def __init__(self, alpha=0.1, maxiter=100):\n",
    "        self.alpha = alpha\n",
    "        self.maxiter = maxiter\n",
    "        \n",
    "    def fit(self, X, y):\n",
    "        self.w_ = np.zeros(X.shape[1])\n",
    "        L = 2*LA.eig(X.T@X)[0].max() \n",
    "        z = self.w\n",
    "        s = 1\n",
    "        for i in range(self.maxiter):\n",
    "            res = y - X @ z\n",
    "            v = z + (X.T @ res) / L\n",
    "            w_new = self._soft_threshold(v,  self.alpha / L)\n",
    "            s_new  = (1 + np.sqrt(1 + 4 * s ** 2)) / 2\n",
    "            z = self.w + (s - 1) / s_new * (w_new - self.w)\n",
    "            \n",
    "            self.w = w_new\n",
    "            s = s_new\n",
    "        \n",
    "    def _soft_threshold(self, y, alpha):\n",
    "        return np.sign(y) * np.maximum(np.abs(y) - alpha, 0.0)"
   ]
  },
  {
   "cell_type": "code",
   "execution_count": 101,
   "metadata": {},
   "outputs": [],
   "source": [
    "class Ista:\n",
    "    def __init__(self, alpha=0.1, maxiter=100, tol=1e-4):\n",
    "        self.alpha = alpha\n",
    "        self.maxiter = maxiter\n",
    "        self.tol = tol\n",
    "        self.coef = []\n",
    "    \n",
    "    def fit(self, X, y):\n",
    "        self.coef = np.zeros(X.shape[1])\n",
    "        rho = self._supermum_eigen(X.T @ X)\n",
    "        for it in range(self.maxiter):\n",
    "            beta_new = self._update(self.coef, X, y, rho)\n",
    "            if (np.abs(self.coef - beta_new) < self.tol).all():\n",
    "                break\n",
    "            self.coef = beta_new\n",
    "    \n",
    "    def _update(self, x0, X, y, rho):\n",
    "        res = y - X @ x0\n",
    "        return self._soft_threshold(x0 + (X.T @ res) / rho, self.alpha / rho)\n",
    "    \n",
    "    def _soft_threshold(self, y, alpha):\n",
    "        return np.sign(y) * np.maximum(np.abs(y) - alpha, 0.0)\n",
    "        \n",
    "    def _supermum_eigen(self, X):\n",
    "        return np.max(np.sum(np.abs(X), axis=0))"
   ]
  },
  {
   "cell_type": "code",
   "execution_count": 102,
   "metadata": {},
   "outputs": [],
   "source": [
    "from sklearn.base import BaseEstimator, RegressorMixin\n",
    "class Admm(BaseEstimator, RegressorMixin):\n",
    "    def __init__(self, lambd=1.0, rho=1.0, max_iter=1000):\n",
    "        self.lambd = lambd\n",
    "        self.rho = rho\n",
    "        self.threshold = lambd / rho\n",
    "        self.max_iter = max_iter\n",
    "        self.coef_ = None\n",
    "        self.intercept_ = 0.0\n",
    "\n",
    "    def _soft_threshold(self, x):\n",
    "        t = self.threshold\n",
    "\n",
    "        positive_indexes = x >= t\n",
    "        negative_indexes = x <= t\n",
    "        zero_indexes = abs(x) <= t\n",
    "\n",
    "        y = np.zeros(x.shape)\n",
    "        y[positive_indexes] = x[positive_indexes] - t\n",
    "        y[negative_indexes] = x[negative_indexes] + t\n",
    "        y[zero_indexes] = 0.0\n",
    "\n",
    "        return y\n",
    "\n",
    "    def fit(self, A, b):\n",
    "        N = A.shape[0]\n",
    "        M = A.shape[1]\n",
    "        inv_matrix = np.linalg.inv(np.dot(A.T, A) / N + self.rho * np.identity(M))\n",
    "\n",
    "        x = np.dot(A.T, b) / N\n",
    "        z = x.copy()\n",
    "        y = np.zeros(len(x))\n",
    "\n",
    "        for iteration in range(self.max_iter):\n",
    "            x = np.dot(inv_matrix, np.dot(A.T, b) / N + self.rho * z - y)\n",
    "            z = self._soft_threshold(x + y / self.rho)\n",
    "            y += self.rho * (x - z)\n",
    "\n",
    "        self.coef_ = x\n",
    "\n",
    "        return self\n",
    "\n",
    "    def predict(self, X):\n",
    "        y = np.dot(X, self.coef_)\n",
    "        return y"
   ]
  },
  {
   "cell_type": "code",
   "execution_count": 109,
   "metadata": {},
   "outputs": [
    {
     "name": "stdout",
     "output_type": "stream",
     "text": [
      "(850.940090076095+0j)\n"
     ]
    },
    {
     "name": "stderr",
     "output_type": "stream",
     "text": [
      "/Users/habakan/.pyenv/versions/3.6.0/lib/python3.6/site-packages/numpy/core/numeric.py:492: ComplexWarning: Casting complex values to real discards the imaginary part\n",
      "  return array(a, dtype, copy=False, order=order)\n"
     ]
    },
    {
     "data": {
      "image/png": "[encoded data removed]",
      "text/plain": [
       "<Figure size 432x288 with 1 Axes>"
      ]
     },
     "metadata": {},
     "output_type": "display_data"
    }
   ],
   "source": [
    "import numpy as np\n",
    "import matplotlib.pyplot as plt\n",
    "\n",
    "\n",
    "# Generate some sparse data to play with\n",
    "np.random.seed(42)\n",
    "\n",
    "n_samples, n_features = 50, 200\n",
    "X = np.random.randn(n_samples, n_features)\n",
    "coef = 3 * np.random.randn(n_features)\n",
    "inds = np.arange(n_features)\n",
    "np.random.shuffle(inds)\n",
    "coef[inds[10:]] = 0  # sparsify coef\n",
    "y = np.dot(X, coef)\n",
    "\n",
    "# add noise\n",
    "y += 0.01 * np.random.normal(size=n_samples)\n",
    "\n",
    "# Lasso from scikit-learn\n",
    "from sklearn.linear_model import Lasso\n",
    "\n",
    "alpha = 0.1\n",
    "lasso = Lasso(alpha=alpha, fit_intercept=False, tol=1.0e-5)\n",
    "lasso.fit(X, y)\n",
    "\n",
    "# Lasso from this work\n",
    "alpha = 0.1 * n_samples\n",
    "\n",
    "ista = Ista(alpha, 30000, 1e-5)\n",
    "ista.fit(X, y)\n",
    "\n",
    "admm = Admm(max_iter=30000)\n",
    "admm.fit(X, y)\n",
    "\n",
    "fista = Fista(alpha=100, maxiter=30000)\n",
    "fista.fit(X, y)\n",
    "\n",
    "# compare\n",
    "plt.plot(coef, '-b', label='real coef')\n",
    "plt.plot(lasso.coef_, '-o', label='sklearn')\n",
    "plt.plot(ista.coef, '-', label='ista')\n",
    "plt.plot(fista.coef_, '-', label='fista')\n",
    "plt.plot(admm.coef_, '+', label='admm')\n",
    "plt.legend()\n",
    "plt.show()"
   ]
  },
  {
   "cell_type": "code",
   "execution_count": 104,
   "metadata": {},
   "outputs": [
    {
     "data": {
      "image/png": "[encoded data removed]",
      "text/plain": [
       "<Figure size 432x288 with 1 Axes>"
      ]
     },
     "metadata": {},
     "output_type": "display_data"
    }
   ],
   "source": [
    "from grouplasso import GroupLassoRegressor\n",
    "group_ids = np.array([0 for i in range(50)] + [1 for i in range(50)] +  [2 for i in range(50)] + [3 for i in range(50)])\n",
    "eta = 0.2    # 学習率\n",
    "group_lasso = GroupLassoRegressor(group_ids=group_ids, random_state=42, alpha=alpha, verbose=False, eta=eta)\n",
    "group_lasso.fit(X, y)\n",
    "plt.plot(coef, '-', label='real coef')\n",
    "plt.plot([i for i in range(0, 50)], group_lasso.coef_[:50], 'o', label='group1')\n",
    "plt.plot([i for i in range(50, 100)], group_lasso.coef_[50:100], 'o', label='group2')\n",
    "plt.plot([i for i in range(100, 150)], group_lasso.coef_[100:150], 'o', label='group3')\n",
    "plt.plot([i for i in range(150, 200)], group_lasso.coef_[150:200], 'o', label='group4')\n",
    "plt.legend()\n",
    "plt.show()"
   ]
  },
  {
   "cell_type": "code",
   "execution_count": null,
   "metadata": {},
   "outputs": [],
   "source": []
  }
 ],
 "metadata": {
  "kernelspec": {
   "display_name": "Python 3",
   "language": "python",
   "name": "python3"
  },
  "language_info": {
   "codemirror_mode": {
    "name": "ipython",
    "version": 3
   },
   "file_extension": ".py",
   "mimetype": "text/x-python",
   "name": "python",
   "nbconvert_exporter": "python",
   "pygments_lexer": "ipython3",
   "version": "3.6.0"
  }
 },
 "nbformat": 4,
 "nbformat_minor": 2
}
