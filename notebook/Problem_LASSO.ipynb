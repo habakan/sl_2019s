{
 "cells": [
  {
   "cell_type": "markdown",
   "metadata": {},
   "source": [
    "# LASSOの問題点を検証\n",
    "- 変数選択数の限界\n",
    "- 説明変数間の相関があるときの問題\n",
    "\n",
    "参考：https://stats.biopapyrus.jp/sparse-modeling/lasso.html"
   ]
  },
  {
   "cell_type": "markdown",
   "metadata": {},
   "source": [
    "## 1. 変数選択数の限界\n",
    "データのサンプル数が$n$, 変数の数が$p$で$p > n$の場合, 高々$n$個の変数までしか選択できない"
   ]
  },
  {
   "cell_type": "code",
   "execution_count": 1,
   "metadata": {},
   "outputs": [],
   "source": [
    "import numpy as np\n",
    "import matplotlib.pyplot as plt"
   ]
  },
  {
   "cell_type": "code",
   "execution_count": 2,
   "metadata": {},
   "outputs": [],
   "source": [
    "# データ数\n",
    "n_samples = 100\n",
    "# 真の変数の数\n",
    "n_true_features = 150\n",
    "# 全体の変数の数\n",
    "n_features = 300"
   ]
  },
  {
   "cell_type": "code",
   "execution_count": 3,
   "metadata": {},
   "outputs": [],
   "source": [
    "beta = np.zeros((n_features+1))\n",
    "beta[:n_true_features] = np.random.randn(n_true_features)\n",
    "X = np.ones((n_samples, n_features+1))\n",
    "X[:, 1:] = np.random.randn(n_samples, n_features)\n",
    "y = X @ beta + np.random.randn(n_samples)"
   ]
  },
  {
   "cell_type": "code",
   "execution_count": 4,
   "metadata": {
    "scrolled": true
   },
   "outputs": [
    {
     "name": "stdout",
     "output_type": "stream",
     "text": [
      "(100, 301)\n",
      "(301,)\n",
      "(100,)\n"
     ]
    }
   ],
   "source": [
    "print(X.shape)\n",
    "print(beta.shape)\n",
    "print(y.shape)"
   ]
  },
  {
   "cell_type": "code",
   "execution_count": 5,
   "metadata": {},
   "outputs": [],
   "source": [
    "class Lasso:\n",
    "    def __init__(self, alpha=0.1, maxiter=100):\n",
    "        self.alpha = alpha\n",
    "        # number of ietration\n",
    "        self.maxiter = maxiter\n",
    "        \n",
    "    def fit(self, X, y):\n",
    "        self.w = np.zeros(X.shape[1])\n",
    "        L = 2*np.linalg.eig(X.T@X)[0].max() \n",
    "        z = self.w\n",
    "        s = 1\n",
    "        for i in range(self.maxiter):\n",
    "            res = y - X @ z\n",
    "            v = z + (X.T @ res) / L\n",
    "            w_new = self._soft_threshold(v,  self.alpha / L)\n",
    "            s_new  = (1 + np.sqrt(1 + 4 * s ** 2)) / 2\n",
    "            z = self.w + (s - 1) / s_new * (w_new - self.w)\n",
    "            \n",
    "            self.w = w_new\n",
    "            s = s_new\n",
    "    \n",
    "    def predict(self, X):\n",
    "        return X @ self.w\n",
    "        \n",
    "    def _soft_threshold(self, y, alpha):\n",
    "        return np.sign(y) * np.maximum(np.abs(y) - alpha, 0.0)"
   ]
  },
  {
   "cell_type": "code",
   "execution_count": 6,
   "metadata": {},
   "outputs": [],
   "source": [
    "model = Lasso(maxiter=100000)\n",
    "model.fit(X, y)"
   ]
  },
  {
   "cell_type": "code",
   "execution_count": 7,
   "metadata": {},
   "outputs": [
    {
     "name": "stderr",
     "output_type": "stream",
     "text": [
      "/Users/habakan/.pyenv/versions/3.6.0/lib/python3.6/site-packages/matplotlib/transforms.py:841: ComplexWarning: Casting complex values to real discards the imaginary part\n",
      "  points = np.array(args, dtype=float).reshape(2, 2)\n"
     ]
    },
    {
     "data": {
      "image/png": "[encoded data removed]",
      "text/plain": [
       "<Figure size 432x288 with 1 Axes>"
      ]
     },
     "metadata": {},
     "output_type": "display_data"
    }
   ],
   "source": [
    "left = np.array([ i for i in range(len(beta)) ] )\n",
    "plt.figure()\n",
    "plt.bar(left, beta, label=\"beta\")\n",
    "plt.bar(left, model.w, label=\"beta_hat\")\n",
    "plt.legend()\n",
    "plt.show()"
   ]
  },
  {
   "cell_type": "markdown",
   "metadata": {},
   "source": [
    "### 非ゼロの係数の数\n",
    "特徴選択された数"
   ]
  },
  {
   "cell_type": "code",
   "execution_count": 8,
   "metadata": {},
   "outputs": [
    {
     "data": {
      "text/plain": [
       "125"
      ]
     },
     "execution_count": 8,
     "metadata": {},
     "output_type": "execute_result"
    }
   ],
   "source": [
    "# 非ゼロの係数の数\n",
    "np.sum(np.abs(model.w) != 0, axis=0)"
   ]
  },
  {
   "cell_type": "markdown",
   "metadata": {},
   "source": [
    "## 説明変数間の相関がある\n",
    "説明変数同士の相関が高い場合、その中から 1 つしか選択されない\n",
    "\n",
    "### 検証\n",
    "共分散が0ではない多次元正規分布から3次元のデータを作成"
   ]
  },
  {
   "cell_type": "code",
   "execution_count": 9,
   "metadata": {},
   "outputs": [],
   "source": [
    "# データ数\n",
    "n_samples = 10000\n",
    "# 真の変数の数\n",
    "n_true_features = 15\n",
    "# 全体の変数の数\n",
    "n_features = 30"
   ]
  },
  {
   "cell_type": "code",
   "execution_count": 10,
   "metadata": {},
   "outputs": [],
   "source": [
    "sigma = np.eye(n_features, n_features)"
   ]
  },
  {
   "cell_type": "code",
   "execution_count": 11,
   "metadata": {},
   "outputs": [],
   "source": [
    "mu = [0, 0, 0]\n",
    "#sigma = [[0.5, 0.9, 0.9], [0.9, 0.5, 0.9], [0.9, 0.9, 0.5]]\n",
    "sigma = [[1, 1, 1], [1, 1, 1], [1, 1, 1]]\n",
    "\n",
    "X = np.ones((n_samples, n_features+1))\n",
    "for i in range(1, n_features+1, 3):\n",
    "    values = np.random.multivariate_normal(mu, sigma, n_samples)\n",
    "    X[:, i:i+3] = values\n",
    "\n",
    "beta = np.zeros((n_features+1))\n",
    "beta[0] = np.random.randn(1)\n",
    "beta[:n_true_features] = np.random.randn(n_true_features)\n",
    "'''\n",
    "for i in range(1, n_true_features+1, 3):\n",
    "    values = np.random.multivariate_normal(mu, sigma, 1).reshape(-1)\n",
    "    beta[i:i+3] = values\n",
    "'''\n",
    "y = X @ beta + np.random.randn(n_samples) * 0.1"
   ]
  },
  {
   "cell_type": "code",
   "execution_count": 12,
   "metadata": {},
   "outputs": [
    {
     "name": "stdout",
     "output_type": "stream",
     "text": [
      "(10000, 31)\n",
      "(31,)\n",
      "(10000,)\n"
     ]
    }
   ],
   "source": [
    "print(X.shape)\n",
    "print(beta.shape)\n",
    "print(y.shape)"
   ]
  },
  {
   "cell_type": "code",
   "execution_count": 13,
   "metadata": {},
   "outputs": [],
   "source": [
    "class GroupLasso:\n",
    "    def __init__(self, group_ids, alpha=1e-3, eta=1e-1, maxiter=100):\n",
    "        self.alpha = alpha\n",
    "        self.eta = eta\n",
    "        self.maxiter = maxiter\n",
    "        # group id\n",
    "        self.group_ids = group_ids\n",
    "        \n",
    "    def fit(self, X, y):\n",
    "        self.w = np.zeros(X.shape[1])\n",
    "        L = 2*np.linalg.eig(X.T@X)[0].max() \n",
    "        z = self.w\n",
    "        s = 1\n",
    "        for i in range(self.maxiter):\n",
    "            res = y - X @ z\n",
    "            \n",
    "            v = z + (X.T @ res) / L * self.eta\n",
    "            #print(self.alpha * self.eta / L)\n",
    "            w_new = self._proximal_operator(v,  self.alpha * self.eta )\n",
    "            s_new  = (1 + np.sqrt(1 + 4 * s ** 2)) / 2\n",
    "            z = self.w + (s - 1) / s_new * (w_new - self.w)\n",
    "            \n",
    "            self.w = w_new\n",
    "            s = s_new\n",
    "        \n",
    "    def _proximal_operator(self, v, thresh):\n",
    "        result_w = np.zeros_like(self.w).astype(np.float64)\n",
    "        for group_id in self.group_ids:\n",
    "            # 該当するgroupのみ係数を抽出\n",
    "            group_coef_idx = self.group_ids == group_id\n",
    "            group_coef = v[group_coef_idx]\n",
    "            \n",
    "            # L2ノルムの計算\n",
    "            group_norm = np.linalg.norm(group_coef, 2)\n",
    "            \n",
    "            # soft_threshold関数\n",
    "            if group_norm == 0:\n",
    "                multiplier = 0\n",
    "            else:\n",
    "                #print(group_norm)\n",
    "                multiplier = np.maximum(0, 1 -  thresh / group_norm)\n",
    "            \n",
    "            result_w[group_coef_idx] = multiplier * group_coef\n",
    "            \n",
    "        return result_w\n",
    "    \n",
    "    def predict(self, X):\n",
    "        return X @ self.w"
   ]
  },
  {
   "cell_type": "code",
   "execution_count": 14,
   "metadata": {},
   "outputs": [],
   "source": [
    "model = Lasso(alpha=0.1, maxiter=5000)\n",
    "model.fit(X, y)"
   ]
  },
  {
   "cell_type": "code",
   "execution_count": 15,
   "metadata": {
    "scrolled": true
   },
   "outputs": [
    {
     "name": "stderr",
     "output_type": "stream",
     "text": [
      "/Users/habakan/.pyenv/versions/3.6.0/lib/python3.6/site-packages/matplotlib/transforms.py:841: ComplexWarning: Casting complex values to real discards the imaginary part\n",
      "  points = np.array(args, dtype=float).reshape(2, 2)\n"
     ]
    },
    {
     "data": {
      "image/png": "[encoded data removed]",
      "text/plain": [
       "<Figure size 432x288 with 1 Axes>"
      ]
     },
     "metadata": {},
     "output_type": "display_data"
    }
   ],
   "source": [
    "left = np.array([ i for i in range(len(beta)) ] )\n",
    "plt.figure()\n",
    "plt.bar(left, beta, label=\"beta\", alpha=0.5)\n",
    "plt.bar(left, model.w, label=\"beta_hat\", alpha=0.5)\n",
    "plt.legend()\n",
    "plt.show()"
   ]
  },
  {
   "cell_type": "code",
   "execution_count": 16,
   "metadata": {},
   "outputs": [],
   "source": [
    "X_test = np.ones((n_samples, n_features+1))\n",
    "for i in range(1, n_features+1, 3):\n",
    "    values = np.random.multivariate_normal(mu, sigma, n_samples)\n",
    "    X_test[:, i:i+3] = values\n",
    "y_test = X_test @ beta"
   ]
  },
  {
   "cell_type": "code",
   "execution_count": 17,
   "metadata": {},
   "outputs": [
    {
     "name": "stdout",
     "output_type": "stream",
     "text": [
      "MSE:  0.2111889063636558\n"
     ]
    }
   ],
   "source": [
    "print('MSE: ', np.linalg.norm(y_test - model.predict(X_test)))"
   ]
  },
  {
   "cell_type": "code",
   "execution_count": 18,
   "metadata": {},
   "outputs": [
    {
     "name": "stderr",
     "output_type": "stream",
     "text": [
      "/Users/habakan/.pyenv/versions/3.6.0/lib/python3.6/site-packages/ipykernel_launcher.py:43: ComplexWarning: Casting complex values to real discards the imaginary part\n"
     ]
    }
   ],
   "source": [
    "alpha = 0.001\n",
    "eta = 0.2\n",
    "group_ids = np.zeros(n_features+1)\n",
    "group_ids[1:] = np.array([[i, i, i] for i in range(1, int(n_features/3)+1)]).reshape(-1)\n",
    "glasso = GroupLasso(group_ids=group_ids, alpha=alpha, eta=eta, maxiter=5000)\n",
    "glasso.fit(X, y)"
   ]
  },
  {
   "cell_type": "code",
   "execution_count": 19,
   "metadata": {},
   "outputs": [
    {
     "data": {
      "image/png": "[encoded data removed]",
      "text/plain": [
       "<Figure size 432x288 with 1 Axes>"
      ]
     },
     "metadata": {},
     "output_type": "display_data"
    }
   ],
   "source": [
    "left = np.array([ i for i in range(len(beta)) ] )\n",
    "plt.figure()\n",
    "plt.bar(left, beta, label=\"beta\", alpha=0.5)\n",
    "plt.bar(left, glasso.w, label=\"beta_hat\", alpha=0.5)\n",
    "plt.legend()\n",
    "plt.show()"
   ]
  },
  {
   "cell_type": "code",
   "execution_count": 20,
   "metadata": {},
   "outputs": [
    {
     "name": "stdout",
     "output_type": "stream",
     "text": [
      "MSE:  1.0379903909118453\n"
     ]
    }
   ],
   "source": [
    "print('MSE: ', np.linalg.norm(y_test - glasso.predict(X_test)))"
   ]
  },
  {
   "cell_type": "code",
   "execution_count": 21,
   "metadata": {},
   "outputs": [],
   "source": [
    "import matplotlib.pyplot as plt"
   ]
  },
  {
   "cell_type": "code",
   "execution_count": 22,
   "metadata": {},
   "outputs": [],
   "source": [
    "def draw_heatmap(data):\n",
    "    fig, ax = plt.subplots()\n",
    "    heatmap = ax.pcolor(data, cmap=plt.cm.Blues)\n",
    "\n",
    "    ax.set_xticks(np.arange(data.shape[0]) + 0.5, minor=False)\n",
    "    ax.set_yticks(np.arange(data.shape[1]) + 0.5, minor=False)\n",
    "    plt.show()\n",
    "\n",
    "    return heatmap"
   ]
  },
  {
   "cell_type": "code",
   "execution_count": 23,
   "metadata": {},
   "outputs": [
    {
     "data": {
      "image/png": "[encoded data removed]",
      "text/plain": [
       "<Figure size 432x288 with 1 Axes>"
      ]
     },
     "metadata": {},
     "output_type": "display_data"
    },
    {
     "data": {
      "text/plain": [
       "<matplotlib.collections.PolyCollection at 0x106deab38>"
      ]
     },
     "execution_count": 23,
     "metadata": {},
     "output_type": "execute_result"
    }
   ],
   "source": [
    "draw_heatmap(np.cov(X.T))"
   ]
  },
  {
   "cell_type": "code",
   "execution_count": null,
   "metadata": {},
   "outputs": [],
   "source": []
  }
 ],
 "metadata": {
  "kernelspec": {
   "display_name": "Python 3",
   "language": "python",
   "name": "python3"
  },
  "language_info": {
   "codemirror_mode": {
    "name": "ipython",
    "version": 3
   },
   "file_extension": ".py",
   "mimetype": "text/x-python",
   "name": "python",
   "nbconvert_exporter": "python",
   "pygments_lexer": "ipython3",
   "version": "3.6.0"
  }
 },
 "nbformat": 4,
 "nbformat_minor": 2
}
