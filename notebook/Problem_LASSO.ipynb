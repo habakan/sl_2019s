{
 "cells": [
  {
   "cell_type": "markdown",
   "metadata": {},
   "source": [
    "# LASSOの問題点を検証\n",
    "- 変数選択数の限界\n",
    "- 説明変数間の相関があるときの問題\n",
    "\n",
    "参考：https://stats.biopapyrus.jp/sparse-modeling/lasso.html"
   ]
  },
  {
   "cell_type": "markdown",
   "metadata": {},
   "source": [
    "## 1. 変数選択数の限界\n",
    "データのサンプル数が$n$, 変数の数が$p$で$p > n$の場合, 高々$n$個の変数までしか選択できない"
   ]
  },
  {
   "cell_type": "code",
   "execution_count": 1,
   "metadata": {},
   "outputs": [],
   "source": [
    "import numpy as np\n",
    "import matplotlib.pyplot as plt"
   ]
  },
  {
   "cell_type": "code",
   "execution_count": 2,
   "metadata": {},
   "outputs": [],
   "source": [
    "# データ数\n",
    "n_samples = 100\n",
    "# 真の変数の数\n",
    "n_true_features = 150\n",
    "# 全体の変数の数\n",
    "n_features = 300"
   ]
  },
  {
   "cell_type": "code",
   "execution_count": 3,
   "metadata": {},
   "outputs": [],
   "source": [
    "beta = np.zeros((n_features+1))\n",
    "beta[:n_true_features] = np.random.randn(n_true_features)\n",
    "X = np.ones((n_samples, n_features+1))\n",
    "X[:, 1:] = np.random.randn(n_samples, n_features)\n",
    "y = X @ beta + np.random.randn(n_samples)"
   ]
  },
  {
   "cell_type": "code",
   "execution_count": 4,
   "metadata": {
    "scrolled": true
   },
   "outputs": [
    {
     "name": "stdout",
     "output_type": "stream",
     "text": [
      "(100, 301)\n",
      "(301,)\n",
      "(100,)\n"
     ]
    }
   ],
   "source": [
    "print(X.shape)\n",
    "print(beta.shape)\n",
    "print(y.shape)"
   ]
  },
  {
   "cell_type": "code",
   "execution_count": 5,
   "metadata": {},
   "outputs": [],
   "source": [
    "class Lasso:\n",
    "    def __init__(self, alpha=0.1, maxiter=100):\n",
    "        self.alpha = alpha\n",
    "        self.maxiter = maxiter\n",
    "        \n",
    "    def fit(self, X, y):\n",
    "        self.w = np.zeros(X.shape[1])\n",
    "        L = 2*np.linalg.eig(X.T@X)[0].max() \n",
    "        z = self.w\n",
    "        s = 1\n",
    "        for i in range(self.maxiter):\n",
    "            res = y - X @ z\n",
    "            v = z + (X.T @ res) / L\n",
    "            w_new = self._soft_threshold(v,  self.alpha / L)\n",
    "            s_new  = (1 + np.sqrt(1 + 4 * s ** 2)) / 2\n",
    "            z = self.w + (s - 1) / s_new * (w_new - self.w)\n",
    "            \n",
    "            self.w = w_new\n",
    "            s = s_new\n",
    "    \n",
    "    def predict(self, X):\n",
    "        return X @ self.w\n",
    "        \n",
    "    def _soft_threshold(self, y, alpha):\n",
    "        return np.sign(y) * np.maximum(np.abs(y) - alpha, 0.0)"
   ]
  },
  {
   "cell_type": "code",
   "execution_count": 6,
   "metadata": {},
   "outputs": [],
   "source": [
    "model = Lasso(maxiter=100000)\n",
    "model.fit(X, y)"
   ]
  },
  {
   "cell_type": "code",
   "execution_count": 7,
   "metadata": {},
   "outputs": [
    {
     "name": "stderr",
     "output_type": "stream",
     "text": [
      "/Users/habakan/.pyenv/versions/3.6.0/lib/python3.6/site-packages/matplotlib/transforms.py:841: ComplexWarning: Casting complex values to real discards the imaginary part\n",
      "  points = np.array(args, dtype=float).reshape(2, 2)\n"
     ]
    },
    {
     "data": {
      "image/png": "[encoded data removed]",
      "text/plain": [
       "<Figure size 432x288 with 1 Axes>"
      ]
     },
     "metadata": {},
     "output_type": "display_data"
    }
   ],
   "source": [
    "left = np.array([ i for i in range(len(beta)) ] )\n",
    "plt.figure()\n",
    "plt.bar(left, beta, label=\"beta\")\n",
    "plt.bar(left, model.w, label=\"beta_hat\")\n",
    "plt.legend()\n",
    "plt.show()"
   ]
  },
  {
   "cell_type": "markdown",
   "metadata": {},
   "source": [
    "### 非ゼロの係数の数\n",
    "特徴選択された数"
   ]
  },
  {
   "cell_type": "code",
   "execution_count": 8,
   "metadata": {},
   "outputs": [
    {
     "data": {
      "text/plain": [
       "119"
      ]
     },
     "execution_count": 8,
     "metadata": {},
     "output_type": "execute_result"
    }
   ],
   "source": [
    "# 非ゼロの係数の数\n",
    "np.sum(np.abs(model.w) > 0.01, axis=0)"
   ]
  },
  {
   "cell_type": "code",
   "execution_count": null,
   "metadata": {},
   "outputs": [],
   "source": []
  }
 ],
 "metadata": {
  "kernelspec": {
   "display_name": "Python 3",
   "language": "python",
   "name": "python3"
  },
  "language_info": {
   "codemirror_mode": {
    "name": "ipython",
    "version": 3
   },
   "file_extension": ".py",
   "mimetype": "text/x-python",
   "name": "python",
   "nbconvert_exporter": "python",
   "pygments_lexer": "ipython3",
   "version": "3.6.0"
  }
 },
 "nbformat": 4,
 "nbformat_minor": 2
}
